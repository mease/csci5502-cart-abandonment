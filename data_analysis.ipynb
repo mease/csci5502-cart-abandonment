{
 "cells": [
  {
   "cell_type": "markdown",
   "id": "f237ce5a",
   "metadata": {},
   "source": [
    "## Shopping Cart Abandonment Prediction\n",
    "### Data Analysis"
   ]
  },
  {
   "cell_type": "code",
   "execution_count": 1,
   "id": "539357a0",
   "metadata": {},
   "outputs": [],
   "source": [
    "from sklearn.metrics import confusion_matrix, classification_report, roc_curve, auc\n",
    "import matplotlib.pyplot as plt\n",
    "import seaborn as sns\n",
    "import numpy as np"
   ]
  },
  {
   "cell_type": "code",
   "execution_count": 2,
   "id": "16a71f4a",
   "metadata": {},
   "outputs": [],
   "source": [
    "# Click sequence for all data points\n",
    "sequence_length = 30"
   ]
  },
  {
   "cell_type": "code",
   "execution_count": 3,
   "id": "9fa03160",
   "metadata": {},
   "outputs": [],
   "source": [
    "with open('data/X_train.npy', 'rb') as f:\n",
    "    X_train = np.load(f)\n",
    "with open('data/y_train.npy', 'rb') as f:\n",
    "    y_train = np.load(f)\n",
    "with open('data/X_test.npy', 'rb') as f:\n",
    "    X_test = np.load(f)\n",
    "with open('data/y_test.npy', 'rb') as f:\n",
    "    y_test = np.load(f)"
   ]
  },
  {
   "cell_type": "markdown",
   "id": "819035cb",
   "metadata": {},
   "source": [
    "### Buy vs. Abandon Analysis\n",
    "We count the total number of sequences that end in a buy event, and the number that end in a abandon event. Then calculate the percentages of each."
   ]
  },
  {
   "cell_type": "code",
   "execution_count": 4,
   "id": "0dc0b5bd",
   "metadata": {},
   "outputs": [
    {
     "name": "stdout",
     "output_type": "stream",
     "text": [
      "Total click sequences: 7381855\n",
      "Abandons: 6979243\n",
      "Buys: 402612\n",
      "Percentage Abandons: 0.9454592375493693\n",
      "Percentage Buys: 0.05454076245063064\n"
     ]
    }
   ],
   "source": [
    "total = len(y_train)\n",
    "buys = (y_train == 1).sum()\n",
    "abandons = (y_train == 0).sum()\n",
    "print(f\"Total click sequences: {total}\")\n",
    "print(f\"Abandons: {abandons}\")\n",
    "print(f\"Buys: {buys}\")\n",
    "print(f\"Percentage Abandons: {abandons / total}\")\n",
    "print(f\"Percentage Buys: {buys / total}\")"
   ]
  },
  {
   "cell_type": "markdown",
   "id": "11d3d32d",
   "metadata": {},
   "source": [
    "It's worth noting that we could get 0.9455 accuracy by simply predicting \"abandon\" for all inputs, but AUC is poor. Below we see the metrics for this \"naive\" classifier."
   ]
  },
  {
   "cell_type": "code",
   "execution_count": 5,
   "id": "6bbce58d",
   "metadata": {},
   "outputs": [
    {
     "name": "stdout",
     "output_type": "stream",
     "text": [
      "AUC: 0.5\n",
      "              precision    recall  f1-score   support\n",
      "\n",
      "           0     0.9455    1.0000    0.9720   1744811\n",
      "           1     0.0000    0.0000    0.0000    100653\n",
      "\n",
      "    accuracy                         0.9455   1845464\n",
      "   macro avg     0.4727    0.5000    0.4860   1845464\n",
      "weighted avg     0.8939    0.9455    0.9190   1845464\n",
      "\n"
     ]
    },
    {
     "data": {
      "image/png": "[encoded data removed]",
      "text/plain": [
       "<Figure size 360x360 with 2 Axes>"
      ]
     },
     "metadata": {
      "needs_background": "light"
     },
     "output_type": "display_data"
    }
   ],
   "source": [
    "# Naive classifier: predict zero for all samples\n",
    "y_pred = np.zeros(len(y_test), dtype=int)\n",
    "\n",
    "fpr, tpr, thresholds = roc_curve(y_test, y_pred, pos_label=1)\n",
    "print(f\"AUC: {auc(fpr, tpr)}\")\n",
    "\n",
    "print(classification_report(y_test, y_pred, digits=4, zero_division=0))\n",
    "\n",
    "cm = confusion_matrix(y_test, y_pred)\n",
    "plt.figure(figsize=(5, 5))\n",
    "sns.heatmap(cm, annot=True, fmt=\"d\")\n",
    "plt.ylabel(\"Actual label\")\n",
    "plt.xlabel(\"Predicted label\")\n",
    "plt.title(\"Naive Classifier\")\n",
    "plt.show()"
   ]
  },
  {
   "cell_type": "markdown",
   "id": "1c031797",
   "metadata": {},
   "source": [
    "### Session Length Analysis\n",
    "We count the number of sessions for each length from 1 to 30 in the training set and provide some histograms for visualization."
   ]
  },
  {
   "cell_type": "code",
   "execution_count": 6,
   "id": "eeeff448",
   "metadata": {},
   "outputs": [
    {
     "name": "stdout",
     "output_type": "stream",
     "text": [
      "Total: 7381855\n",
      "Min session length: 1\n",
      "Max session length: 30\n"
     ]
    },
    {
     "data": {
      "image/png": "[encoded data removed]",
      "text/plain": [
       "<Figure size 432x288 with 1 Axes>"
      ]
     },
     "metadata": {
      "needs_background": "light"
     },
     "output_type": "display_data"
    }
   ],
   "source": [
    "# Total session lengths\n",
    "sess_lens = []\n",
    "for i in range(X_train.shape[0]):\n",
    "    sess_lens.append(np.count_nonzero(X_train[i,:,0]))\n",
    "\n",
    "sess_lens = np.array(sess_lens)\n",
    "print(f\"Total: {len(sess_lens)}\")\n",
    "print(f\"Min session length: {np.min(sess_lens)}\")\n",
    "print(f\"Max session length: {np.max(sess_lens)}\")\n",
    "\n",
    "plt.hist(sess_lens, bins=sequence_length)\n",
    "plt.ylabel('Counts')\n",
    "plt.xlabel('Session Length');\n",
    "plt.title('Total session lengths')\n",
    "plt.show()"
   ]
  },
  {
   "cell_type": "code",
   "execution_count": 7,
   "id": "2bf1f7cb",
   "metadata": {},
   "outputs": [
    {
     "name": "stdout",
     "output_type": "stream",
     "text": [
      "Total: 402612\n",
      "Min session length: 1\n",
      "Max session length: 30\n"
     ]
    },
    {
     "data": {
      "image/png": "[encoded data removed]",
      "text/plain": [
       "<Figure size 432x288 with 1 Axes>"
      ]
     },
     "metadata": {
      "needs_background": "light"
     },
     "output_type": "display_data"
    }
   ],
   "source": [
    "# Buy session lengths\n",
    "buy_sess_lens = []\n",
    "for i in range(X_train.shape[0]):\n",
    "    if (y_train[i] == 1):\n",
    "        buy_sess_lens.append(np.count_nonzero(X_train[i,:,0]))\n",
    "\n",
    "buy_sess_lens = np.array(buy_sess_lens)\n",
    "buy_sess_counts = np.bincount(buy_sess_lens, minlength=sequence_length)\n",
    "print(f\"Total: {len(buy_sess_lens)}\")\n",
    "print(f\"Min session length: {np.min(buy_sess_lens)}\")\n",
    "print(f\"Max session length: {np.max(buy_sess_lens)}\")\n",
    "\n",
    "plt.hist(buy_sess_lens, bins=sequence_length)\n",
    "plt.ylabel('Counts')\n",
    "plt.xlabel('Session Length');\n",
    "plt.title('Buy session lengths')\n",
    "plt.show()"
   ]
  },
  {
   "cell_type": "code",
   "execution_count": 8,
   "id": "9ab93615",
   "metadata": {},
   "outputs": [
    {
     "name": "stdout",
     "output_type": "stream",
     "text": [
      "Total: 6979243\n",
      "Min session length: 1\n",
      "Max session length: 30\n"
     ]
    },
    {
     "data": {
      "image/png": "[encoded data removed]",
      "text/plain": [
       "<Figure size 432x288 with 1 Axes>"
      ]
     },
     "metadata": {
      "needs_background": "light"
     },
     "output_type": "display_data"
    }
   ],
   "source": [
    "# Abandon session lengths\n",
    "abandon_sess_lens = []\n",
    "for i in range(X_train.shape[0]):\n",
    "    if (y_train[i] == 0):\n",
    "        abandon_sess_lens.append(np.count_nonzero(X_train[i,:,0]))\n",
    "\n",
    "abandon_sess_lens = np.array(abandon_sess_lens)\n",
    "abandon_sess_counts = np.bincount(abandon_sess_lens, minlength=sequence_length)\n",
    "print(f\"Total: {len(abandon_sess_lens)}\")\n",
    "print(f\"Min session length: {np.min(abandon_sess_lens)}\")\n",
    "print(f\"Max session length: {np.max(abandon_sess_lens)}\")\n",
    "\n",
    "plt.hist(abandon_sess_lens, bins=30)\n",
    "plt.ylabel('Counts')\n",
    "plt.xlabel('Session Length');\n",
    "plt.title('Abandon session lengths')\n",
    "plt.show()"
   ]
  },
  {
   "cell_type": "markdown",
   "id": "c9afda6a",
   "metadata": {},
   "source": [
    "By examining the histograms, we see that the distribution of \"buy\" session lengths is less skewed to the left. We might hypothesize that longer sequence lengths are more indicative of \"buy\" sessions. We can create a simple classifier that classifies any session above a certain length as \"buy\":"
   ]
  },
  {
   "cell_type": "code",
   "execution_count": 9,
   "id": "acae205f",
   "metadata": {},
   "outputs": [
    {
     "name": "stdout",
     "output_type": "stream",
     "text": [
      "AUC: 0.5716573023528493\n",
      "              precision    recall  f1-score   support\n",
      "\n",
      "           0     0.9532    0.9616    0.9574   1744811\n",
      "           1     0.2143    0.1818    0.1967    100653\n",
      "\n",
      "    accuracy                         0.9190   1845464\n",
      "   macro avg     0.5838    0.5717    0.5770   1845464\n",
      "weighted avg     0.9129    0.9190    0.9159   1845464\n",
      "\n"
     ]
    },
    {
     "data": {
      "image/png": "[encoded data removed]",
      "text/plain": [
       "<Figure size 360x360 with 2 Axes>"
      ]
     },
     "metadata": {
      "needs_background": "light"
     },
     "output_type": "display_data"
    }
   ],
   "source": [
    "def sess_len_classify(sess_len):\n",
    "    return sess_len >= 10\n",
    "\n",
    "y_pred = np.zeros(len(y_test))\n",
    "for i in range(len(y_test)):\n",
    "    y_pred[i] = sess_len_classify(np.count_nonzero(X_test[i,:,0]))\n",
    "\n",
    "fpr, tpr, thresholds = roc_curve(y_test, y_pred, pos_label=1)\n",
    "print(f\"AUC: {auc(fpr, tpr)}\")\n",
    "\n",
    "print(classification_report(y_test, y_pred, digits=4, zero_division=0))\n",
    "\n",
    "cm = confusion_matrix(y_test, y_pred)\n",
    "plt.figure(figsize=(5, 5))\n",
    "sns.heatmap(cm, annot=True, fmt=\"d\")\n",
    "plt.ylabel(\"Actual label\")\n",
    "plt.xlabel(\"Predicted label\")\n",
    "plt.title(\"Session Length Classifier\")\n",
    "plt.show()"
   ]
  },
  {
   "cell_type": "markdown",
   "id": "a1887e03",
   "metadata": {},
   "source": [
    "We see an improvement in AUC, but accuracy is down. Alternatively, we can scale the session length counts for both abandons and buys, and compare those values to make our prediction:"
   ]
  },
  {
   "cell_type": "code",
   "execution_count": 10,
   "id": "a2433d77",
   "metadata": {},
   "outputs": [],
   "source": [
    "def scale(array):\n",
    "    minimum, maximum = np.min(array), np.max(array)\n",
    "    m = 1 / (maximum - minimum)\n",
    "    return m * array - m * minimum\n",
    "\n",
    "scaled_buy_counts = scale(buy_sess_counts)\n",
    "scaled_abandon_counts = scale(abandon_sess_counts)"
   ]
  },
  {
   "cell_type": "code",
   "execution_count": 11,
   "id": "132b767e",
   "metadata": {},
   "outputs": [
    {
     "name": "stdout",
     "output_type": "stream",
     "text": [
      "AUC: 0.6374513482934421\n",
      "              precision    recall  f1-score   support\n",
      "\n",
      "           0     0.9726    0.5375    0.6924   1744811\n",
      "           1     0.0842    0.7374    0.1512    100653\n",
      "\n",
      "    accuracy                         0.5484   1845464\n",
      "   macro avg     0.5284    0.6375    0.4218   1845464\n",
      "weighted avg     0.9241    0.5484    0.6628   1845464\n",
      "\n"
     ]
    },
    {
     "data": {
      "image/png": "[encoded data removed]",
      "text/plain": [
       "<Figure size 360x360 with 2 Axes>"
      ]
     },
     "metadata": {
      "needs_background": "light"
     },
     "output_type": "display_data"
    }
   ],
   "source": [
    "def sess_len_classify(sess_len):\n",
    "    return scaled_buy_counts[sess_len] > scaled_abandon_counts[sess_len]\n",
    "\n",
    "y_pred = np.zeros(len(y_test))\n",
    "for i in range(len(y_test)):\n",
    "    y_pred[i] = sess_len_classify(np.count_nonzero(X_test[i,:,0]))\n",
    "\n",
    "fpr, tpr, thresholds = roc_curve(y_test, y_pred, pos_label=1)\n",
    "print(f\"AUC: {auc(fpr, tpr)}\")\n",
    "\n",
    "print(classification_report(y_test, y_pred, digits=4, zero_division=0))\n",
    "\n",
    "cm = confusion_matrix(y_test, y_pred)\n",
    "plt.figure(figsize=(5, 5))\n",
    "sns.heatmap(cm, annot=True, fmt=\"d\")\n",
    "plt.ylabel(\"Actual label\")\n",
    "plt.xlabel(\"Predicted label\")\n",
    "plt.title(\"Scaled Session Length Count Classifier\")\n",
    "plt.show()"
   ]
  },
  {
   "cell_type": "markdown",
   "id": "26a266e5",
   "metadata": {},
   "source": [
    "Here, AUC is improved further, but accuracy is greatly reduced. We conclude that session length may have some value as a predicting feature, but our simple models are unable to use it effectively. A good model should increase both AUC and accuracy."
   ]
  },
  {
   "cell_type": "markdown",
   "id": "7d9024a4",
   "metadata": {},
   "source": [
    "### Item analysis\n",
    "We count the frequencies of each item in the training data."
   ]
  },
  {
   "cell_type": "code",
   "execution_count": 12,
   "id": "327c0f9c",
   "metadata": {},
   "outputs": [
    {
     "name": "stdout",
     "output_type": "stream",
     "text": [
      "Top 10 frequent items (total)\n",
      "Item\tCount\n",
      "----\t----\n",
      "33037\t113812\n",
      "46301\t100151\n",
      "31948\t89285\n",
      "47530\t61838\n",
      "23836\t54388\n",
      "46302\t52739\n",
      "8888\t47996\n",
      "26468\t47920\n",
      "40213\t47616\n",
      "9332\t44215\n"
     ]
    }
   ],
   "source": [
    "# Most frequent items in all sessions\n",
    "items = X_train[:,:,1].reshape(-1)\n",
    "items = items[items != 0]\n",
    "counts = np.bincount(items)\n",
    "num_items = len(counts)\n",
    "ind = np.argsort(counts)[-10:][::-1]\n",
    "print(\"Top 10 frequent items (total)\")\n",
    "print(\"Item\\tCount\")\n",
    "print(\"----\\t----\")\n",
    "for i, c in zip(ind, counts[ind]):\n",
    "    print(f\"{i}\\t{c}\")"
   ]
  },
  {
   "cell_type": "code",
   "execution_count": 13,
   "id": "f9bbc2dd",
   "metadata": {},
   "outputs": [
    {
     "name": "stdout",
     "output_type": "stream",
     "text": [
      "Top 10 frequent items (buy)\n",
      "Item\tCount\n",
      "----\t----\n",
      "33037\t24996\n",
      "31948\t13543\n",
      "47530\t8506\n",
      "26467\t8051\n",
      "26468\t7633\n",
      "23836\t7558\n",
      "9320\t6959\n",
      "30737\t6934\n",
      "46301\t6793\n",
      "32986\t6060\n"
     ]
    }
   ],
   "source": [
    "# Most frequent items in buy sessions\n",
    "train_indices = y_train == 1\n",
    "items = X_train[train_indices,:,1].reshape(-1)\n",
    "items = items[items != 0]\n",
    "buy_item_counts = np.bincount(items, minlength=num_items)\n",
    "ind = np.argsort(buy_item_counts)[-10:][::-1]\n",
    "print(\"Top 10 frequent items (buy)\")\n",
    "print(\"Item\\tCount\")\n",
    "print(\"----\\t----\")\n",
    "for i, c in zip(ind, buy_item_counts[ind]):\n",
    "    print(f\"{i}\\t{c}\")"
   ]
  },
  {
   "cell_type": "code",
   "execution_count": 14,
   "id": "8c36e3e0",
   "metadata": {},
   "outputs": [
    {
     "name": "stdout",
     "output_type": "stream",
     "text": [
      "Top 10 frequent items (abandon)\n",
      "Item\tCount\n",
      "----\t----\n",
      "46301\t93358\n",
      "33037\t88816\n",
      "31948\t75742\n",
      "47530\t53332\n",
      "46302\t48348\n",
      "23836\t46830\n",
      "40213\t43624\n",
      "8888\t43405\n",
      "26468\t40287\n",
      "9332\t39829\n"
     ]
    }
   ],
   "source": [
    "# Most frequent items in abandon sessions\n",
    "train_indices = y_train == 0\n",
    "items = X_train[train_indices,:,1].reshape(-1)\n",
    "items = items[items != 0]\n",
    "abandon_item_counts = np.bincount(items, minlength=num_items)\n",
    "ind = np.argsort(abandon_item_counts)[-10:][::-1]\n",
    "print(\"Top 10 frequent items (abandon)\")\n",
    "print(\"Item\\tCount\")\n",
    "print(\"----\\t----\")\n",
    "for i, c in zip(ind, abandon_item_counts[ind]):\n",
    "    print(f\"{i}\\t{c}\")"
   ]
  },
  {
   "cell_type": "markdown",
   "id": "c938e41a",
   "metadata": {},
   "source": [
    "We test the effectiveness of item frequency as a predictor. A simple classifier can sum up the scaled \"buy\" frequency counts and the \"abandon\" frequency counts from the training set for each item in a sequence. The label with the larger sum is used as the prediction:"
   ]
  },
  {
   "cell_type": "code",
   "execution_count": 15,
   "id": "bb880c74",
   "metadata": {},
   "outputs": [
    {
     "name": "stdout",
     "output_type": "stream",
     "text": [
      "AUC: 0.5184110516442977\n",
      "              precision    recall  f1-score   support\n",
      "\n",
      "           0     0.9474    0.9827    0.9647   1744811\n",
      "           1     0.1527    0.0542    0.0800    100653\n",
      "\n",
      "    accuracy                         0.9320   1845464\n",
      "   macro avg     0.5501    0.5184    0.5223   1845464\n",
      "weighted avg     0.9041    0.9320    0.9165   1845464\n",
      "\n"
     ]
    },
    {
     "data": {
      "image/png": "[encoded data removed]",
      "text/plain": [
       "<Figure size 360x360 with 2 Axes>"
      ]
     },
     "metadata": {
      "needs_background": "light"
     },
     "output_type": "display_data"
    }
   ],
   "source": [
    "buy_counts_scaled = scale(buy_item_counts)\n",
    "abandon_counts_scaled = scale(abandon_item_counts)\n",
    "\n",
    "def count_classify(items):\n",
    "    sum_buy = 0\n",
    "    sum_abandon = 0\n",
    "    for item in items:\n",
    "        sum_buy += buy_counts_scaled[item]\n",
    "        sum_abandon += abandon_counts_scaled[item]\n",
    "    return sum_buy > sum_abandon\n",
    "\n",
    "y_pred = np.zeros(len(y_test))\n",
    "for i in range(len(y_test)):\n",
    "    y_pred[i] = count_classify(X_test[i,:,1])\n",
    "\n",
    "fpr, tpr, thresholds = roc_curve(y_test, y_pred, pos_label=1)\n",
    "print(f\"AUC: {auc(fpr, tpr)}\")\n",
    "\n",
    "print(classification_report(y_test, y_pred, digits=4, zero_division=0))\n",
    "\n",
    "cm = confusion_matrix(y_test, y_pred)\n",
    "plt.figure(figsize=(5, 5))\n",
    "sns.heatmap(cm, annot=True, fmt=\"d\")\n",
    "plt.ylabel(\"Actual label\")\n",
    "plt.xlabel(\"Predicted label\")\n",
    "plt.title(\"Item Count Classifier\")\n",
    "plt.show()"
   ]
  },
  {
   "cell_type": "markdown",
   "id": "d3e85d9d",
   "metadata": {},
   "source": [
    "We see a small improvement to AUC and a small drop in accuracy over our naive predictor. We conclude that item counts alone are a poor predictor for this task. But a more advanced model might be capable of extracting knowledge about the the items in a session to improve the metrics."
   ]
  },
  {
   "cell_type": "code",
   "execution_count": null,
   "id": "114ae1de",
   "metadata": {},
   "outputs": [],
   "source": []
  }
 ],
 "metadata": {
  "kernelspec": {
   "display_name": "Python 3 (ipykernel)",
   "language": "python",
   "name": "python3"
  },
  "language_info": {
   "codemirror_mode": {
    "name": "ipython",
    "version": 3
   },
   "file_extension": ".py",
   "mimetype": "text/x-python",
   "name": "python",
   "nbconvert_exporter": "python",
   "pygments_lexer": "ipython3",
   "version": "3.8.0"
  }
 },
 "nbformat": 4,
 "nbformat_minor": 5
}
