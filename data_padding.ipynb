{
 "cells": [
  {
   "cell_type": "markdown",
   "metadata": {},
   "source": [
    "# Shopping Cart Abandonment Prediction\n",
    "## Data Padding\n",
    "\n",
    "Run after data_prep notebook. This notebook pads the input sequences, converts the data to numpy arrays, and saves the numpy arrays to file."
   ]
  },
  {
   "cell_type": "code",
   "execution_count": 1,
   "metadata": {},
   "outputs": [],
   "source": [
    "import pickle\n",
    "import numpy as np"
   ]
  },
  {
   "cell_type": "code",
   "execution_count": 2,
   "metadata": {},
   "outputs": [],
   "source": [
    "with open('data/X_train.pickle', \"rb\") as f:\n",
    "    X_train = pickle.load(f)\n",
    "with open('data/y_train.pickle', \"rb\") as f:\n",
    "    y_train = pickle.load(f)\n",
    "with open('data/X_test.pickle', \"rb\") as f:\n",
    "    X_test = pickle.load(f)\n",
    "with open('data/y_test.pickle', \"rb\") as f:\n",
    "    y_test = pickle.load(f)"
   ]
  },
  {
   "cell_type": "code",
   "execution_count": 3,
   "metadata": {},
   "outputs": [
    {
     "name": "stdout",
     "output_type": "stream",
     "text": [
      "[[3975, 3563, 32], [3975, 2622, 32], [3975, 23268, 32], [3975, 21636, 2], [3975, 8388, 27], [3975, 43686, 27], [3975, 45848, 27], [3975, 8396, 27], [0, 0, 0], [0, 0, 0], [0, 0, 0], [0, 0, 0], [0, 0, 0], [0, 0, 0], [0, 0, 0], [0, 0, 0], [0, 0, 0], [0, 0, 0], [0, 0, 0], [0, 0, 0]] 0\n",
      "[[3465, 45939, 33], [3465, 45939, 33], [3465, 45938, 33], [3465, 45938, 33], [0, 0, 0], [0, 0, 0], [0, 0, 0], [0, 0, 0], [0, 0, 0], [0, 0, 0], [0, 0, 0], [0, 0, 0], [0, 0, 0], [0, 0, 0], [0, 0, 0], [0, 0, 0], [0, 0, 0], [0, 0, 0], [0, 0, 0], [0, 0, 0]] 0\n",
      "[[1471, 37295, 1], [1471, 37269, 1], [1471, 37269, 1], [1471, 37275, 1], [1471, 37275, 1], [1471, 37310, 1], [1471, 37310, 1], [0, 0, 0], [0, 0, 0], [0, 0, 0], [0, 0, 0], [0, 0, 0], [0, 0, 0], [0, 0, 0], [0, 0, 0], [0, 0, 0], [0, 0, 0], [0, 0, 0], [0, 0, 0], [0, 0, 0]] 0\n",
      "[[3558, 46400, 33], [3559, 45938, 33], [3559, 45937, 33], [3559, 46400, 33], [0, 0, 0], [0, 0, 0], [0, 0, 0], [0, 0, 0], [0, 0, 0], [0, 0, 0], [0, 0, 0], [0, 0, 0], [0, 0, 0], [0, 0, 0], [0, 0, 0], [0, 0, 0], [0, 0, 0], [0, 0, 0], [0, 0, 0], [0, 0, 0]] 0\n",
      "[[783, 8877, 1], [0, 0, 0], [0, 0, 0], [0, 0, 0], [0, 0, 0], [0, 0, 0], [0, 0, 0], [0, 0, 0], [0, 0, 0], [0, 0, 0], [0, 0, 0], [0, 0, 0], [0, 0, 0], [0, 0, 0], [0, 0, 0], [0, 0, 0], [0, 0, 0], [0, 0, 0], [0, 0, 0], [0, 0, 0]] 0\n",
      "[[1469, 37279, 1], [1469, 37264, 1], [1469, 37317, 1], [1469, 23036, 1], [1469, 23036, 1], [0, 0, 0], [0, 0, 0], [0, 0, 0], [0, 0, 0], [0, 0, 0], [0, 0, 0], [0, 0, 0], [0, 0, 0], [0, 0, 0], [0, 0, 0], [0, 0, 0], [0, 0, 0], [0, 0, 0], [0, 0, 0], [0, 0, 0]] 1\n",
      "[[218, 9296, 1], [218, 9296, 1], [0, 0, 0], [0, 0, 0], [0, 0, 0], [0, 0, 0], [0, 0, 0], [0, 0, 0], [0, 0, 0], [0, 0, 0], [0, 0, 0], [0, 0, 0], [0, 0, 0], [0, 0, 0], [0, 0, 0], [0, 0, 0], [0, 0, 0], [0, 0, 0], [0, 0, 0], [0, 0, 0]] 0\n",
      "[[1707, 11034, 1], [1707, 10862, 1], [1707, 11034, 1], [1708, 37269, 1], [0, 0, 0], [0, 0, 0], [0, 0, 0], [0, 0, 0], [0, 0, 0], [0, 0, 0], [0, 0, 0], [0, 0, 0], [0, 0, 0], [0, 0, 0], [0, 0, 0], [0, 0, 0], [0, 0, 0], [0, 0, 0], [0, 0, 0], [0, 0, 0]] 0\n",
      "[[2314, 5582, 6], [2314, 853, 6], [2314, 853, 6], [0, 0, 0], [0, 0, 0], [0, 0, 0], [0, 0, 0], [0, 0, 0], [0, 0, 0], [0, 0, 0], [0, 0, 0], [0, 0, 0], [0, 0, 0], [0, 0, 0], [0, 0, 0], [0, 0, 0], [0, 0, 0], [0, 0, 0], [0, 0, 0], [0, 0, 0]] 0\n",
      "[[1696, 30603, 1], [1696, 35930, 1], [1696, 2078, 1], [1696, 9686, 1], [0, 0, 0], [0, 0, 0], [0, 0, 0], [0, 0, 0], [0, 0, 0], [0, 0, 0], [0, 0, 0], [0, 0, 0], [0, 0, 0], [0, 0, 0], [0, 0, 0], [0, 0, 0], [0, 0, 0], [0, 0, 0], [0, 0, 0], [0, 0, 0]] 0\n"
     ]
    }
   ],
   "source": [
    "MAX_SESSION_LEN = 20\n",
    "\n",
    "def pad_sequence(seq):\n",
    "    if len(seq) < MAX_SESSION_LEN:\n",
    "        for i in range(MAX_SESSION_LEN - len(seq)):\n",
    "            seq.append([0,0,0])\n",
    "        return seq\n",
    "    else:\n",
    "        return seq\n",
    "\n",
    "def pad_data(d):\n",
    "    for i in range(len(d)):\n",
    "        d[i] = pad_sequence(d[i])\n",
    "\n",
    "# Pad sequences\n",
    "pad_data(X_train)\n",
    "pad_data(X_test)\n",
    "\n",
    "for i in range(10):\n",
    "    print(X_train[i], y_train[i])"
   ]
  },
  {
   "cell_type": "code",
   "execution_count": 4,
   "metadata": {},
   "outputs": [],
   "source": [
    "with open('data/X_train.npy', 'wb') as f:\n",
    "    np.save(f, np.array(X_train))"
   ]
  },
  {
   "cell_type": "code",
   "execution_count": 5,
   "metadata": {},
   "outputs": [],
   "source": [
    "with open('data/y_train.npy', 'wb') as f:\n",
    "    np.save(f, np.array(y_train))"
   ]
  },
  {
   "cell_type": "code",
   "execution_count": 6,
   "metadata": {},
   "outputs": [],
   "source": [
    "with open('data/X_test.npy', 'wb') as f:\n",
    "    np.save(f, np.array(X_test))"
   ]
  },
  {
   "cell_type": "code",
   "execution_count": 7,
   "metadata": {},
   "outputs": [],
   "source": [
    "with open('data/y_test.npy', 'wb') as f:\n",
    "    np.save(f, np.array(y_test))"
   ]
  },
  {
   "cell_type": "code",
   "execution_count": null,
   "metadata": {},
   "outputs": [],
   "source": []
  }
 ],
 "metadata": {
  "kernelspec": {
   "display_name": "Python 3",
   "language": "python",
   "name": "python3"
  },
  "language_info": {
   "codemirror_mode": {
    "name": "ipython",
    "version": 3
   },
   "file_extension": ".py",
   "mimetype": "text/x-python",
   "name": "python",
   "nbconvert_exporter": "python",
   "pygments_lexer": "ipython3",
   "version": "3.7.7"
  }
 },
 "nbformat": 4,
 "nbformat_minor": 4
}
