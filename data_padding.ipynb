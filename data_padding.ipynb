{
 "cells": [
  {
   "cell_type": "markdown",
   "metadata": {},
   "source": [
    "# Shopping Cart Abandonment Prediction\n",
    "## Data Padding\n",
    "\n",
    "Run after data_prep notebook. This notebook pads the input sequences, converts the data to numpy arrays, and saves the numpy arrays to file."
   ]
  },
  {
   "cell_type": "code",
   "execution_count": 1,
   "metadata": {},
   "outputs": [],
   "source": [
    "import pickle\n",
    "import numpy as np"
   ]
  },
  {
   "cell_type": "code",
   "execution_count": 2,
   "metadata": {},
   "outputs": [
    {
     "name": "stdout",
     "output_type": "stream",
     "text": [
      "Loading X_train\n",
      "Processing X_train\n",
      "Loading X_test\n",
      "Processing X_test\n"
     ]
    }
   ],
   "source": [
    "MAX_SESSION_LEN = 30\n",
    "\n",
    "def pad_sequence(seq):\n",
    "    if len(seq) < MAX_SESSION_LEN:\n",
    "        for i in range(MAX_SESSION_LEN - len(seq)):\n",
    "            seq.append([0,0,0])\n",
    "        return seq\n",
    "    else:\n",
    "        return seq\n",
    "\n",
    "def reverse_and_pad_data(name):\n",
    "    with open(f\"data/{name}.pickle\", \"rb\") as f1:\n",
    "        print(f\"Loading {name}\")\n",
    "        d = pickle.load(f1)\n",
    "        \n",
    "        print(f\"Processing {name}\")\n",
    "        arr = np.zeros((len(d), MAX_SESSION_LEN, 3), dtype='int32')\n",
    "        for i in range(len(d)):\n",
    "            d[i].reverse()\n",
    "            arr[i] = np.array(pad_sequence(d[i]))\n",
    "\n",
    "        with open(f\"data/{name}.npy\", 'wb') as f2:\n",
    "            np.save(f2, arr)\n",
    "\n",
    "# Pad sequences\n",
    "reverse_and_pad_data('X_train')\n",
    "reverse_and_pad_data('X_test')"
   ]
  },
  {
   "cell_type": "code",
   "execution_count": 3,
   "metadata": {},
   "outputs": [],
   "source": [
    "with open('data/y_train.pickle', \"rb\") as f:\n",
    "    y_train = pickle.load(f)\n",
    "    with open('data/y_train.npy', 'wb') as f:\n",
    "        np.save(f, np.array(y_train))"
   ]
  },
  {
   "cell_type": "code",
   "execution_count": 4,
   "metadata": {},
   "outputs": [],
   "source": [
    "with open('data/y_test.pickle', \"rb\") as f:\n",
    "    y_test = pickle.load(f)\n",
    "    with open('data/y_test.npy', 'wb') as f:\n",
    "        np.save(f, np.array(y_test))"
   ]
  },
  {
   "cell_type": "code",
   "execution_count": null,
   "metadata": {},
   "outputs": [],
   "source": []
  }
 ],
 "metadata": {
  "kernelspec": {
   "display_name": "Python 3",
   "language": "python",
   "name": "python3"
  },
  "language_info": {
   "codemirror_mode": {
    "name": "ipython",
    "version": 3
   },
   "file_extension": ".py",
   "mimetype": "text/x-python",
   "name": "python",
   "nbconvert_exporter": "python",
   "pygments_lexer": "ipython3",
   "version": "3.7.7"
  }
 },
 "nbformat": 4,
 "nbformat_minor": 4
}
