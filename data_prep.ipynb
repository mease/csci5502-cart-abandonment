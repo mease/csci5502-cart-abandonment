{
 "cells": [
  {
   "cell_type": "markdown",
   "metadata": {},
   "source": [
    "# Shopping Cart Abandonment Prediction\n",
    "## Data Preparation\n",
    "Data from https://www.kaggle.com/chadgostopp/recsys-challenge-2015\n",
    "\n",
    "Place data files in `data` directory relative to this notebook."
   ]
  },
  {
   "cell_type": "code",
   "execution_count": 1,
   "metadata": {},
   "outputs": [],
   "source": [
    "import numpy as np\n",
    "import pandas as pd\n",
    "import matplotlib.pyplot as plt\n",
    "import pickle\n",
    "from datetime import datetime\n",
    "from sklearn.model_selection import train_test_split\n",
    "from sklearn import preprocessing"
   ]
  },
  {
   "cell_type": "code",
   "execution_count": 2,
   "metadata": {},
   "outputs": [],
   "source": [
    "MAX_SESSION_LEN = 20"
   ]
  },
  {
   "cell_type": "code",
   "execution_count": 3,
   "metadata": {},
   "outputs": [
    {
     "name": "stdout",
     "output_type": "stream",
     "text": [
      "Reading click data...\n",
      "Filtering sessions longer than 20...\n",
      "Converting ItemID categories...\n",
      "Converting Category categories...\n",
      "Binning Timestamps...\n"
     ]
    },
    {
     "data": {
      "text/html": [
       "<div>\n",
       "<style scoped>\n",
       "    .dataframe tbody tr th:only-of-type {\n",
       "        vertical-align: middle;\n",
       "    }\n",
       "\n",
       "    .dataframe tbody tr th {\n",
       "        vertical-align: top;\n",
       "    }\n",
       "\n",
       "    .dataframe thead th {\n",
       "        text-align: right;\n",
       "    }\n",
       "</style>\n",
       "<table border=\"1\" class=\"dataframe\">\n",
       "  <thead>\n",
       "    <tr style=\"text-align: right;\">\n",
       "      <th></th>\n",
       "      <th>index</th>\n",
       "      <th>SessionID</th>\n",
       "      <th>Timestamp</th>\n",
       "      <th>ItemID</th>\n",
       "      <th>Category</th>\n",
       "    </tr>\n",
       "  </thead>\n",
       "  <tbody>\n",
       "    <tr>\n",
       "      <th>0</th>\n",
       "      <td>0</td>\n",
       "      <td>1</td>\n",
       "      <td>152</td>\n",
       "      <td>750</td>\n",
       "      <td>1</td>\n",
       "    </tr>\n",
       "    <tr>\n",
       "      <th>1</th>\n",
       "      <td>1</td>\n",
       "      <td>1</td>\n",
       "      <td>152</td>\n",
       "      <td>749</td>\n",
       "      <td>1</td>\n",
       "    </tr>\n",
       "    <tr>\n",
       "      <th>2</th>\n",
       "      <td>2</td>\n",
       "      <td>1</td>\n",
       "      <td>152</td>\n",
       "      <td>751</td>\n",
       "      <td>1</td>\n",
       "    </tr>\n",
       "    <tr>\n",
       "      <th>3</th>\n",
       "      <td>3</td>\n",
       "      <td>1</td>\n",
       "      <td>152</td>\n",
       "      <td>2624</td>\n",
       "      <td>1</td>\n",
       "    </tr>\n",
       "    <tr>\n",
       "      <th>4</th>\n",
       "      <td>4</td>\n",
       "      <td>2</td>\n",
       "      <td>155</td>\n",
       "      <td>5326</td>\n",
       "      <td>1</td>\n",
       "    </tr>\n",
       "    <tr>\n",
       "      <th>...</th>\n",
       "      <td>...</td>\n",
       "      <td>...</td>\n",
       "      <td>...</td>\n",
       "      <td>...</td>\n",
       "      <td>...</td>\n",
       "    </tr>\n",
       "    <tr>\n",
       "      <th>30868529</th>\n",
       "      <td>33003939</td>\n",
       "      <td>11299809</td>\n",
       "      <td>4255</td>\n",
       "      <td>9121</td>\n",
       "      <td>33</td>\n",
       "    </tr>\n",
       "    <tr>\n",
       "      <th>30868530</th>\n",
       "      <td>33003940</td>\n",
       "      <td>11299809</td>\n",
       "      <td>4255</td>\n",
       "      <td>20186</td>\n",
       "      <td>33</td>\n",
       "    </tr>\n",
       "    <tr>\n",
       "      <th>30868531</th>\n",
       "      <td>33003941</td>\n",
       "      <td>11299811</td>\n",
       "      <td>4241</td>\n",
       "      <td>49760</td>\n",
       "      <td>33</td>\n",
       "    </tr>\n",
       "    <tr>\n",
       "      <th>30868532</th>\n",
       "      <td>33003942</td>\n",
       "      <td>11299811</td>\n",
       "      <td>4241</td>\n",
       "      <td>49757</td>\n",
       "      <td>33</td>\n",
       "    </tr>\n",
       "    <tr>\n",
       "      <th>30868533</th>\n",
       "      <td>33003943</td>\n",
       "      <td>11299811</td>\n",
       "      <td>4241</td>\n",
       "      <td>44218</td>\n",
       "      <td>33</td>\n",
       "    </tr>\n",
       "  </tbody>\n",
       "</table>\n",
       "<p>30868534 rows × 5 columns</p>\n",
       "</div>"
      ],
      "text/plain": [
       "             index  SessionID  Timestamp  ItemID  Category\n",
       "0                0          1        152     750         1\n",
       "1                1          1        152     749         1\n",
       "2                2          1        152     751         1\n",
       "3                3          1        152    2624         1\n",
       "4                4          2        155    5326         1\n",
       "...            ...        ...        ...     ...       ...\n",
       "30868529  33003939   11299809       4255    9121        33\n",
       "30868530  33003940   11299809       4255   20186        33\n",
       "30868531  33003941   11299811       4241   49760        33\n",
       "30868532  33003942   11299811       4241   49757        33\n",
       "30868533  33003943   11299811       4241   44218        33\n",
       "\n",
       "[30868534 rows x 5 columns]"
      ]
     },
     "execution_count": 3,
     "metadata": {},
     "output_type": "execute_result"
    }
   ],
   "source": [
    "# Date parser\n",
    "iso_date_parser = lambda x: pd.to_datetime(datetime.fromisoformat(x[:-1]))\n",
    "\n",
    "# Read data\n",
    "print('Reading click data...')\n",
    "type_dict = {'ItemID': 'category', 'Category': 'category'}\n",
    "df = pd.read_csv('data/yoochoose-clicks.dat',\n",
    "                 header=None,\n",
    "                 names=['SessionID', 'Timestamp', 'ItemID', 'Category'],\n",
    "                 parse_dates=['Timestamp'],\n",
    "                 dtype=type_dict,\n",
    "                 date_parser=iso_date_parser)\n",
    "\n",
    "print(f\"Filtering sessions longer than {MAX_SESSION_LEN}...\")\n",
    "df = df.groupby('SessionID').filter(lambda x : len(x)<=MAX_SESSION_LEN).reset_index()\n",
    "\n",
    "# Convert ItemID and Category to numeric categorical labels. Add 1 so we can reserve 0 for padding purposes.\n",
    "print(\"Converting ItemID categories...\")\n",
    "df.ItemID = df.ItemID.cat.remove_unused_categories()\n",
    "df.ItemID = df.ItemID.cat.codes + 1\n",
    "\n",
    "print(\"Converting Category categories...\")\n",
    "df.Category = df.Category.cat.remove_unused_categories()\n",
    "df.Category = df.Category.cat.codes + 1\n",
    "\n",
    "# Bin timestamps in 4-hour intervals\n",
    "print(\"Binning Timestamps...\")\n",
    "df.Timestamp = df.Timestamp.dt.to_period(freq='4h')\n",
    "df.Timestamp = pd.Categorical(df.Timestamp)\n",
    "df.Timestamp = df.Timestamp.cat.remove_unused_categories()\n",
    "df.Timestamp = df.Timestamp.cat.codes + 1\n",
    "\n",
    "df"
   ]
  },
  {
   "cell_type": "markdown",
   "metadata": {},
   "source": [
    "Organize click events by Session ID:"
   ]
  },
  {
   "cell_type": "code",
   "execution_count": 4,
   "metadata": {},
   "outputs": [
    {
     "name": "stdout",
     "output_type": "stream",
     "text": [
      "..............................\n",
      "Processed 30868534 click events.\n"
     ]
    }
   ],
   "source": [
    "X_dict = {}\n",
    "\n",
    "count = 0\n",
    "for index, row in df.iterrows():\n",
    "    count += 1\n",
    "    sid = row['SessionID']\n",
    "    if sid not in X_dict:\n",
    "        X_dict[sid] = []\n",
    "    X_dict[sid].append([row['Timestamp'], row['ItemID'], row['Category']])\n",
    "    \n",
    "    if count % 1_000_000 == 0:\n",
    "        print('.', end='')\n",
    "        \n",
    "print(f\"\\nProcessed {count} click events.\")\n",
    "del df"
   ]
  },
  {
   "cell_type": "markdown",
   "metadata": {},
   "source": [
    "Collect the set of session IDs that have buy events:"
   ]
  },
  {
   "cell_type": "code",
   "execution_count": 5,
   "metadata": {},
   "outputs": [
    {
     "name": "stdout",
     "output_type": "stream",
     "text": [
      "...........\n",
      "Processed 1150753 buy events.\n"
     ]
    }
   ],
   "source": [
    "buy_sessions = set()\n",
    "\n",
    "filepath = 'data/yoochoose-buys.dat'\n",
    "with open(filepath) as f:\n",
    "    count = 0\n",
    "    for line in f:\n",
    "        count += 1\n",
    "        d = line.strip().split(',')\n",
    "        \n",
    "        # Session ID\n",
    "        sid = int(d[0])\n",
    "        buy_sessions.add(sid)\n",
    "        \n",
    "        if count % 100_000 == 0:\n",
    "            print('.', end='')\n",
    "\n",
    "print(f\"\\nProcessed {count} buy events.\")"
   ]
  },
  {
   "cell_type": "markdown",
   "metadata": {},
   "source": [
    "The majority of sessions have shorter length, but there are some sessions with very long length. Our model training will require less resources and training time if we can reduce the maximum session length. We remove sessions greater than a chosen maximum. Since there are so few session examples with long length, we hypothesize that removing them will have small impact on the trained model."
   ]
  },
  {
   "cell_type": "code",
   "execution_count": 6,
   "metadata": {
    "scrolled": true
   },
   "outputs": [
    {
     "name": "stdout",
     "output_type": "stream",
     "text": [
      "Total Session count: 9180537\n",
      "Min session length: 1\n",
      "Max session length: 20\n"
     ]
    },
    {
     "data": {
      "image/png": "[encoded data removed]",
      "text/plain": [
       "<Figure size 432x288 with 1 Axes>"
      ]
     },
     "metadata": {
      "needs_background": "light"
     },
     "output_type": "display_data"
    }
   ],
   "source": [
    "print(f\"Total Session count: {len(X_dict.keys())}\")\n",
    "sess_lens = []\n",
    "for k, v in X_dict.items():\n",
    "    sess_lens.append(len(v))\n",
    "\n",
    "sess_lens = np.array(sess_lens)\n",
    "print(f\"Min session length: {np.min(sess_lens)}\")\n",
    "print(f\"Max session length: {np.max(sess_lens)}\")\n",
    "\n",
    "plt.hist(sess_lens)\n",
    "plt.ylabel('Counts')\n",
    "plt.xlabel('Session Length');\n",
    "plt.show()"
   ]
  },
  {
   "cell_type": "markdown",
   "metadata": {},
   "source": [
    "Generate the training data. For each session $x = [x_1,x_2,\\ldots,x_m]$, apply a label $y \\in [0,1]$ indicating whether a purchase was made (1) or not made (0)."
   ]
  },
  {
   "cell_type": "code",
   "execution_count": 7,
   "metadata": {},
   "outputs": [
    {
     "name": "stdout",
     "output_type": "stream",
     "text": [
      ".........\n",
      "Top 25 samples:\n",
      "\n",
      "[[152, 750, 1], [152, 749, 1], [152, 751, 1], [152, 2624, 1]] 0\n",
      "\n",
      "[[155, 5326, 1], [155, 5326, 1], [155, 9373, 1], [155, 8945, 1], [156, 8946, 1], [156, 1580, 1]] 0\n",
      "\n",
      "[[35, 8422, 1], [35, 9037, 1], [35, 9712, 1]] 0\n",
      "\n",
      "[[154, 10149, 1], [154, 7589, 1]] 0\n",
      "\n",
      "[[134, 7299, 1], [135, 9398, 1]] 0\n",
      "\n",
      "[[28, 9433, 1], [28, 9404, 1]] 0\n",
      "\n",
      "[[126, 10435, 1], [126, 10435, 1]] 0\n",
      "\n",
      "[[129, 2581, 1], [129, 2581, 1], [129, 2581, 1]] 0\n",
      "\n",
      "[[56, 9316, 1], [56, 9316, 1], [56, 9343, 1], [56, 9343, 1], [56, 9343, 1], [56, 8477, 1], [56, 2264, 1], [56, 7586, 1], [56, 8535, 1], [56, 8765, 1], [56, 9434, 1], [56, 9180, 1]] 1\n",
      "\n",
      "[[32, 8607, 1], [32, 8607, 1]] 1\n",
      "\n",
      "[[132, 10148, 1], [132, 6247, 1], [132, 10148, 1]] 0\n",
      "\n",
      "[[8, 2636, 1], [8, 3049, 1], [8, 2636, 1]] 0\n",
      "\n",
      "[[129, 9448, 1], [129, 9271, 1]] 0\n",
      "\n",
      "[[107, 6195, 1], [107, 6195, 1], [107, 6195, 1]] 0\n",
      "\n",
      "[[18, 2244, 1], [18, 2244, 1], [18, 3982, 1], [18, 3982, 1]] 0\n",
      "\n",
      "[[3, 2636, 1], [3, 2636, 1]] 0\n",
      "\n",
      "[[151, 10347, 1], [151, 10347, 1], [151, 10347, 1], [151, 10347, 1], [151, 10347, 1], [151, 1438, 1]] 1\n",
      "\n",
      "[[77, 8645, 1], [77, 8645, 1], [77, 8645, 1], [77, 8645, 1]] 0\n",
      "\n",
      "[[119, 10263, 1], [119, 10263, 1], [119, 10263, 1], [119, 10264, 1], [119, 10264, 1], [119, 9332, 1], [119, 3008, 1], [119, 9327, 1], [119, 9328, 1], [119, 11138, 1], [119, 9334, 1], [119, 9329, 1], [119, 1580, 1], [119, 1580, 1], [119, 4016, 1], [119, 10264, 1]] 0\n",
      "\n",
      "[[116, 4025, 1], [116, 4025, 1], [116, 999, 1], [116, 999, 1]] 0\n",
      "\n",
      "[[149, 9478, 1], [149, 9473, 1], [149, 890, 1], [149, 10692, 1], [149, 7611, 1], [149, 7611, 1], [149, 2958, 1], [149, 698, 1], [149, 697, 1], [150, 4847, 1]] 0\n",
      "\n",
      "[[134, 2675, 1], [134, 8216, 1], [134, 5682, 1], [134, 3684, 1]] 0\n",
      "\n",
      "[[39, 462, 1], [39, 7233, 1]] 0\n",
      "\n",
      "[[109, 10156, 1], [109, 10156, 1], [109, 7846, 1]] 0\n",
      "\n",
      "[[6, 914, 1], [6, 914, 1]] 0\n"
     ]
    }
   ],
   "source": [
    "X = []\n",
    "y = []\n",
    "\n",
    "count = 0\n",
    "for k,v in X_dict.items():\n",
    "    count += 1\n",
    "    y_val = 0\n",
    "    if k in buy_sessions:\n",
    "        y_val = 1\n",
    "    \n",
    "    X.append(v)\n",
    "    y.append(y_val)\n",
    "    \n",
    "    if count % 1_000_000 == 0:\n",
    "        print('.', end='')\n",
    "\n",
    "del X_dict\n",
    "del buy_sessions\n",
    "\n",
    "print()\n",
    "n = 25\n",
    "print(f\"Top {n} samples:\")\n",
    "for i in range(n):\n",
    "    print()\n",
    "    print(X[i], y[i])"
   ]
  },
  {
   "cell_type": "markdown",
   "metadata": {},
   "source": [
    "Train/test split"
   ]
  },
  {
   "cell_type": "code",
   "execution_count": 8,
   "metadata": {},
   "outputs": [],
   "source": [
    "X_train, X_test, y_train, y_test = train_test_split(X, y, stratify=y, test_size=0.2)"
   ]
  },
  {
   "cell_type": "code",
   "execution_count": 9,
   "metadata": {
    "scrolled": true
   },
   "outputs": [
    {
     "name": "stdout",
     "output_type": "stream",
     "text": [
      "Train ratio buys to abandons: 0.0563947198883601\n",
      "Test ratio buys to abandons: 0.05639469555356486\n"
     ]
    }
   ],
   "source": [
    "# Verify stratified split\n",
    "buys = y_train.count(1)\n",
    "abandons = y_train.count(0)\n",
    "print(f\"Train ratio buys to abandons: {buys / abandons}\")\n",
    "\n",
    "buys = y_test.count(1)\n",
    "abandons = y_test.count(0)\n",
    "print(f\"Test ratio buys to abandons: {buys / abandons}\")"
   ]
  },
  {
   "cell_type": "markdown",
   "metadata": {},
   "source": [
    "Pickle the transformed data into files so we can load them later."
   ]
  },
  {
   "cell_type": "code",
   "execution_count": 10,
   "metadata": {},
   "outputs": [],
   "source": [
    "with open('data/X_train.pickle', \"wb\") as f:\n",
    "    pickle.dump(X_train, f)\n",
    "with open('data/y_train.pickle', \"wb\") as f:\n",
    "    pickle.dump(y_train, f)\n",
    "with open('data/X_test.pickle', \"wb\") as f:\n",
    "    pickle.dump(X_test, f)\n",
    "with open('data/y_test.pickle', \"wb\") as f:\n",
    "    pickle.dump(y_test, f)"
   ]
  },
  {
   "cell_type": "code",
   "execution_count": null,
   "metadata": {},
   "outputs": [],
   "source": []
  }
 ],
 "metadata": {
  "kernelspec": {
   "display_name": "Python 3",
   "language": "python",
   "name": "python3"
  },
  "language_info": {
   "codemirror_mode": {
    "name": "ipython",
    "version": 3
   },
   "file_extension": ".py",
   "mimetype": "text/x-python",
   "name": "python",
   "nbconvert_exporter": "python",
   "pygments_lexer": "ipython3",
   "version": "3.7.7"
  }
 },
 "nbformat": 4,
 "nbformat_minor": 4
}
