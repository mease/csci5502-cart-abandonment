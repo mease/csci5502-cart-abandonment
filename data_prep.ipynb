{
 "cells": [
  {
   "cell_type": "markdown",
   "metadata": {},
   "source": [
    "# Shopping Cart Abandonment Prediction\n",
    "## Data Preparation\n",
    "Data from https://www.kaggle.com/chadgostopp/recsys-challenge-2015\n",
    "\n",
    "Place data files in `data` directory relative to this notebook."
   ]
  },
  {
   "cell_type": "code",
   "execution_count": 1,
   "metadata": {},
   "outputs": [],
   "source": [
    "import numpy as np\n",
    "import matplotlib.pyplot as plt\n",
    "import pickle\n",
    "from datetime import datetime"
   ]
  },
  {
   "cell_type": "markdown",
   "metadata": {},
   "source": [
    "Organize click events by Session ID:"
   ]
  },
  {
   "cell_type": "code",
   "execution_count": 2,
   "metadata": {},
   "outputs": [
    {
     "name": "stdout",
     "output_type": "stream",
     "text": [
      ".................................\n",
      "Processed 33003944 click events.\n"
     ]
    }
   ],
   "source": [
    "# Dictionary to store lists of click events by session ID\n",
    "X_dict = {}\n",
    "\n",
    "filepath = 'data/yoochoose-clicks.dat'\n",
    "with open(filepath) as f:\n",
    "    count = 0\n",
    "    for line in f:\n",
    "        count += 1\n",
    "        d = line.strip().split(',')\n",
    "        x = []\n",
    "        \n",
    "        # Timestamp\n",
    "        timestamp = datetime.fromisoformat(d[1][:-1])\n",
    "        x.append(timestamp.year)\n",
    "        x.append(timestamp.month)\n",
    "        x.append(timestamp.day)\n",
    "        x.append(timestamp.hour)\n",
    "        x.append(timestamp.minute)\n",
    "        \n",
    "        # Item ID\n",
    "        x.append(int(d[2]))\n",
    "        \n",
    "        # Category ID\n",
    "        # These are all positive integers except for 'S' which indicates a special offer.\n",
    "        # We set 'S' to -1 to avoid conflict with the other category IDs.\n",
    "        if d[3] == 'S':\n",
    "            x.append(-1)\n",
    "        else:\n",
    "            x.append(int(d[3]))\n",
    "        \n",
    "        # Session ID\n",
    "        sid = int(d[0])\n",
    "        if sid not in X_dict:\n",
    "            X_dict[sid] = []\n",
    "        X_dict[sid].append(x)\n",
    "        \n",
    "        if count % 1_000_000 == 0:\n",
    "            print('.', end='')\n",
    "\n",
    "print(f\"\\nProcessed {count} click events.\")"
   ]
  },
  {
   "cell_type": "markdown",
   "metadata": {},
   "source": [
    "Collect the set of session IDs that have buy events:"
   ]
  },
  {
   "cell_type": "code",
   "execution_count": 3,
   "metadata": {},
   "outputs": [
    {
     "name": "stdout",
     "output_type": "stream",
     "text": [
      "...........\n",
      "Processed 1150753 buy events.\n"
     ]
    }
   ],
   "source": [
    "buy_sessions = set()\n",
    "\n",
    "filepath = 'data/yoochoose-buys.dat'\n",
    "with open(filepath) as f:\n",
    "    count = 0\n",
    "    for line in f:\n",
    "        count += 1\n",
    "        d = line.strip().split(',')\n",
    "        \n",
    "        # Session ID\n",
    "        sid = int(d[0])\n",
    "        buy_sessions.add(sid)\n",
    "        \n",
    "        if count % 100_000 == 0:\n",
    "            print('.', end='')\n",
    "\n",
    "print(f\"\\nProcessed {count} buy events.\")"
   ]
  },
  {
   "cell_type": "markdown",
   "metadata": {},
   "source": [
    "The majority of sessions have shorter length, but there are some sessions with very long length. Our model training will require less resources and training time if we can reduce the maximum session length. We remove sessions greater than a chosen maximum. Since there are so few session examples with long length, we hypothesize that removing them will have small impact on the trained model."
   ]
  },
  {
   "cell_type": "code",
   "execution_count": 4,
   "metadata": {},
   "outputs": [
    {
     "name": "stdout",
     "output_type": "stream",
     "text": [
      "Total Session count: 9249729\n",
      "Reduced Session count: 9211993\n",
      "Min session length: 1\n",
      "Max session length: 25\n"
     ]
    },
    {
     "data": {
      "image/png": "[encoded data removed]",
      "text/plain": [
       "<Figure size 432x288 with 1 Axes>"
      ]
     },
     "metadata": {
      "needs_background": "light"
     },
     "output_type": "display_data"
    }
   ],
   "source": [
    "MAX_SESSION_LEN = 25\n",
    "\n",
    "sessions_to_remove = []\n",
    "\n",
    "print(f\"Total Session count: {len(X_dict.keys())}\")\n",
    "sess_lens = []\n",
    "for k, v in X_dict.items():\n",
    "    if len(v) <= MAX_SESSION_LEN:\n",
    "        sess_lens.append(len(v))\n",
    "    else:\n",
    "        sessions_to_remove.append(k)\n",
    "        \n",
    "for k in sessions_to_remove:\n",
    "    X_dict.pop(k)\n",
    "\n",
    "sess_lens = np.array(sess_lens)\n",
    "print(f\"Reduced Session count: {len(X_dict.keys())}\")\n",
    "print(f\"Min session length: {np.min(sess_lens)}\")\n",
    "print(f\"Max session length: {np.max(sess_lens)}\")\n",
    "\n",
    "plt.hist(sess_lens)\n",
    "plt.ylabel('Counts')\n",
    "plt.xlabel('Session Length');\n",
    "plt.show()"
   ]
  },
  {
   "cell_type": "markdown",
   "metadata": {},
   "source": [
    "Generate the training data. For each session $x = [x_1,x_2,\\ldots,x_m]$, apply a label $y \\in [0,1]$ indicating whether a purchase was made (1) or not made (0)."
   ]
  },
  {
   "cell_type": "code",
   "execution_count": 5,
   "metadata": {},
   "outputs": [
    {
     "name": "stdout",
     "output_type": "stream",
     "text": [
      ".........\n",
      "Top 25 samples:\n",
      "\n",
      "[[2014, 4, 7, 10, 51, 214536502, 0], [2014, 4, 7, 10, 54, 214536500, 0], [2014, 4, 7, 10, 54, 214536506, 0], [2014, 4, 7, 10, 57, 214577561, 0]] 0\n",
      "\n",
      "[[2014, 4, 7, 13, 56, 214662742, 0], [2014, 4, 7, 13, 57, 214662742, 0], [2014, 4, 7, 13, 58, 214825110, 0], [2014, 4, 7, 13, 59, 214757390, 0], [2014, 4, 7, 14, 0, 214757407, 0], [2014, 4, 7, 14, 2, 214551617, 0]] 0\n",
      "\n",
      "[[2014, 4, 2, 13, 17, 214716935, 0], [2014, 4, 2, 13, 26, 214774687, 0], [2014, 4, 2, 13, 30, 214832672, 0]] 0\n",
      "\n",
      "[[2014, 4, 7, 12, 9, 214836765, 0], [2014, 4, 7, 12, 26, 214706482, 0]] 0\n",
      "\n",
      "[[2014, 4, 6, 16, 58, 214701242, 0], [2014, 4, 6, 17, 2, 214826623, 0]] 0\n",
      "\n",
      "[[2014, 4, 2, 6, 38, 214826835, 0], [2014, 4, 2, 6, 39, 214826715, 0]] 0\n",
      "\n",
      "[[2014, 4, 6, 8, 49, 214838855, 0], [2014, 4, 6, 8, 52, 214838855, 0]] 0\n",
      "\n",
      "[[2014, 4, 6, 11, 26, 214576500, 0], [2014, 4, 6, 11, 28, 214576500, 0], [2014, 4, 6, 11, 29, 214576500, 0]] 0\n",
      "\n",
      "[[2014, 4, 3, 10, 44, 214821275, 0], [2014, 4, 3, 10, 45, 214821275, 0], [2014, 4, 3, 10, 45, 214821371, 0], [2014, 4, 3, 10, 46, 214821371, 0], [2014, 4, 3, 10, 46, 214821371, 0], [2014, 4, 3, 10, 53, 214717089, 0], [2014, 4, 3, 10, 53, 214563337, 0], [2014, 4, 3, 10, 55, 214706462, 0], [2014, 4, 3, 10, 55, 214717436, 0], [2014, 4, 3, 10, 56, 214743335, 0], [2014, 4, 3, 10, 57, 214826837, 0], [2014, 4, 3, 10, 57, 214819762, 0]] 1\n",
      "\n",
      "[[2014, 4, 2, 10, 30, 214717867, 0], [2014, 4, 2, 10, 33, 214717867, 0]] 1\n",
      "\n",
      "[[2014, 4, 6, 14, 50, 214836761, 0], [2014, 4, 6, 14, 52, 214684513, 0], [2014, 4, 6, 14, 53, 214836761, 0]] 0\n",
      "\n",
      "[[2014, 4, 1, 10, 9, 214577732, 0], [2014, 4, 1, 10, 11, 214587013, 0], [2014, 4, 1, 10, 12, 214577732, 0]] 0\n",
      "\n",
      "[[2014, 4, 6, 11, 34, 214826897, 0], [2014, 4, 6, 11, 34, 214820441, 0]] 0\n",
      "\n",
      "[[2014, 4, 5, 13, 8, 214684093, 0], [2014, 4, 5, 13, 8, 214684093, 0], [2014, 4, 5, 13, 20, 214684093, 0]] 0\n",
      "\n",
      "[[2014, 4, 1, 20, 52, 214561790, 0], [2014, 4, 1, 20, 52, 214561790, 0], [2014, 4, 1, 20, 54, 214611457, 0], [2014, 4, 1, 20, 54, 214611457, 0]] 0\n",
      "\n",
      "[[2014, 4, 1, 5, 26, 214577732, 0], [2014, 4, 1, 5, 26, 214577732, 0]] 0\n",
      "\n",
      "[[2014, 4, 7, 9, 1, 214838503, 0], [2014, 4, 7, 9, 3, 214838503, 0], [2014, 4, 7, 9, 4, 214838503, 0], [2014, 4, 7, 9, 6, 214838503, 0], [2014, 4, 7, 9, 7, 214838503, 0], [2014, 4, 7, 9, 21, 214548744, 0]] 1\n",
      "\n",
      "[[2014, 4, 4, 7, 43, 214718203, 0], [2014, 4, 4, 7, 49, 214718203, 0], [2014, 4, 4, 7, 49, 214718203, 0], [2014, 4, 4, 7, 56, 214718203, 0]] 0\n",
      "\n",
      "[[2014, 4, 6, 1, 29, 214837485, 0], [2014, 4, 6, 1, 30, 214837485, 0], [2014, 4, 6, 1, 31, 214837485, 0], [2014, 4, 6, 1, 31, 214837487, 0], [2014, 4, 6, 1, 32, 214837487, 0], [2014, 4, 6, 1, 35, 214821315, 0], [2014, 4, 6, 1, 35, 214586711, 0], [2014, 4, 6, 1, 36, 214821305, 0], [2014, 4, 6, 1, 36, 214821307, 0], [2014, 4, 6, 1, 37, 214844357, 0], [2014, 4, 6, 1, 37, 214821341, 0], [2014, 4, 6, 1, 37, 214821309, 0], [2014, 4, 6, 1, 38, 214551617, 0], [2014, 4, 6, 1, 41, 214551617, 0], [2014, 4, 6, 1, 45, 214612920, 0], [2014, 4, 6, 1, 47, 214837487, 0]] 0\n",
      "\n",
      "[[2014, 4, 5, 22, 48, 214613743, 0], [2014, 4, 5, 22, 48, 214613743, 0], [2014, 4, 5, 22, 49, 214539110, 0], [2014, 4, 5, 22, 49, 214539110, 0]] 0\n",
      "\n",
      "[[2014, 4, 7, 7, 40, 214827028, 0], [2014, 4, 7, 7, 41, 214827017, 0], [2014, 4, 7, 7, 46, 214537796, 0], [2014, 4, 7, 7, 50, 214840762, 0], [2014, 4, 7, 7, 53, 214707930, 0], [2014, 4, 7, 7, 54, 214707930, 0], [2014, 4, 7, 7, 56, 214585652, 0], [2014, 4, 7, 7, 58, 214536197, 0], [2014, 4, 7, 7, 59, 214536195, 0], [2014, 4, 7, 8, 1, 214646169, 0]] 0\n",
      "\n",
      "[[2014, 4, 6, 16, 42, 214579288, 0], [2014, 4, 6, 16, 44, 214714790, 0], [2014, 4, 6, 16, 45, 214676070, 0], [2014, 4, 6, 16, 46, 214601407, 0]] 0\n",
      "\n",
      "[[2014, 4, 2, 17, 42, 214532036, 0], [2014, 4, 2, 17, 47, 214700432, 0]] 0\n",
      "\n",
      "[[2014, 4, 5, 15, 25, 214836789, 0], [2014, 4, 5, 15, 27, 214836789, 0], [2014, 4, 5, 15, 29, 214710804, 0]] 0\n",
      "\n",
      "[[2014, 4, 1, 8, 36, 214537967, 0], [2014, 4, 1, 8, 38, 214537967, 0]] 0\n"
     ]
    }
   ],
   "source": [
    "X = []\n",
    "y = []\n",
    "\n",
    "count = 0\n",
    "for k,v in X_dict.items():\n",
    "    count += 1\n",
    "    y_val = 0\n",
    "    if k in buy_sessions:\n",
    "        y_val = 1\n",
    "    \n",
    "    X.append(v)\n",
    "    y.append(y_val)\n",
    "    \n",
    "    if count % 1_000_000 == 0:\n",
    "        print('.', end='')\n",
    "\n",
    "print()\n",
    "n = 25\n",
    "print(f\"Top {n} samples:\")\n",
    "for i in range(n):\n",
    "    print()\n",
    "    print(X[i], y[i])"
   ]
  },
  {
   "cell_type": "markdown",
   "metadata": {},
   "source": [
    "Pickle the transformed data into files so we can load them later for model training."
   ]
  },
  {
   "cell_type": "code",
   "execution_count": 6,
   "metadata": {},
   "outputs": [],
   "source": [
    "with open('data/X.pickle', \"wb\") as f:\n",
    "    pickle.dump(X, f)\n",
    "with open('data/y.pickle', \"wb\") as f:\n",
    "    pickle.dump(y, f)"
   ]
  },
  {
   "cell_type": "code",
   "execution_count": null,
   "metadata": {},
   "outputs": [],
   "source": []
  }
 ],
 "metadata": {
  "kernelspec": {
   "display_name": "Python 3",
   "language": "python",
   "name": "python3"
  },
  "language_info": {
   "codemirror_mode": {
    "name": "ipython",
    "version": 3
   },
   "file_extension": ".py",
   "mimetype": "text/x-python",
   "name": "python",
   "nbconvert_exporter": "python",
   "pygments_lexer": "ipython3",
   "version": "3.7.7"
  }
 },
 "nbformat": 4,
 "nbformat_minor": 4
}
