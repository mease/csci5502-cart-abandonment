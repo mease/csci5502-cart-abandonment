{
 "cells": [
  {
   "cell_type": "markdown",
   "metadata": {},
   "source": [
    "# Shopping Cart Abandonment Prediction\n",
    "## LSTM\n",
    "\n",
    "LSTM model based on \"Predicting purchasing intent: Automatic Feature Learning using\n",
    "Recurrent Neural Networks\" (Sheil, et.al.)."
   ]
  },
  {
   "cell_type": "code",
   "execution_count": null,
   "metadata": {},
   "outputs": [],
   "source": [
    "!wget https://github.com/mease/csci5502-cart-abandonment/raw/main/data/cart_abandon_data_seq_30.zip\n",
    "!mkdir data\n",
    "!unzip cart_abandon_data_seq_30.zip -d data"
   ]
  },
  {
   "cell_type": "code",
   "execution_count": 1,
   "metadata": {},
   "outputs": [],
   "source": [
    "from sklearn.metrics import confusion_matrix, classification_report\n",
    "import matplotlib.pyplot as plt\n",
    "import seaborn as sns\n",
    "try:\n",
    "  %tensorflow_version 2.x\n",
    "except Exception:\n",
    "  pass\n",
    "import tensorflow as tf\n",
    "from tensorflow import keras\n",
    "from tensorflow.keras import Model\n",
    "from tensorflow.keras.layers import Input, Embedding, Concatenate, LSTM, Dense\n",
    "\n",
    "import numpy as np"
   ]
  },
  {
   "cell_type": "code",
   "execution_count": 2,
   "metadata": {},
   "outputs": [],
   "source": [
    "# Click sequence for all data points\n",
    "sequence_length = 30"
   ]
  },
  {
   "cell_type": "markdown",
   "metadata": {},
   "source": [
    "Load data:"
   ]
  },
  {
   "cell_type": "code",
   "execution_count": 3,
   "metadata": {},
   "outputs": [],
   "source": [
    "with open('data/X_train.npy', 'rb') as f:\n",
    "    X_train = np.load(f)\n",
    "with open('data/y_train.npy', 'rb') as f:\n",
    "    y_train = np.load(f)\n",
    "with open('data/X_test.npy', 'rb') as f:\n",
    "    X_test = np.load(f)\n",
    "with open('data/y_test.npy', 'rb') as f:\n",
    "    y_test = np.load(f)"
   ]
  },
  {
   "cell_type": "markdown",
   "metadata": {},
   "source": [
    "Determine vocabulary size for feature embeddings."
   ]
  },
  {
   "cell_type": "code",
   "execution_count": 4,
   "metadata": {},
   "outputs": [
    {
     "name": "stdout",
     "output_type": "stream",
     "text": [
      "Time vocab: 4369, Item vocab: 51758, Category vocab: 335\n"
     ]
    }
   ],
   "source": [
    "time_vocab_size = len(np.unique(np.concatenate((np.unique(X_train[:,:,0]),np.unique(X_test[:,:,0])))))\n",
    "item_vocab_size = len(np.unique(np.concatenate((np.unique(X_train[:,:,1]),np.unique(X_test[:,:,1])))))\n",
    "cat_vocab_size = len(np.unique(np.concatenate((np.unique(X_train[:,:,2]),np.unique(X_test[:,:,2])))))\n",
    "print(f\"Time vocab: {time_vocab_size}, Item vocab: {item_vocab_size}, Category vocab: {cat_vocab_size}\")"
   ]
  },
  {
   "cell_type": "markdown",
   "metadata": {},
   "source": [
    "Define the model:"
   ]
  },
  {
   "cell_type": "code",
   "execution_count": 5,
   "metadata": {},
   "outputs": [
    {
     "name": "stdout",
     "output_type": "stream",
     "text": [
      "Model: \"model\"\n",
      "__________________________________________________________________________________________________\n",
      " Layer (type)                   Output Shape         Param #     Connected to                     \n",
      "==================================================================================================\n",
      " time_input (InputLayer)        [(None, 30)]         0           []                               \n",
      "                                                                                                  \n",
      " item_input (InputLayer)        [(None, 30)]         0           []                               \n",
      "                                                                                                  \n",
      " category_input (InputLayer)    [(None, 30)]         0           []                               \n",
      "                                                                                                  \n",
      " time_embedding (Embedding)     (None, 30, 10)       43690       ['time_input[0][0]']             \n",
      "                                                                                                  \n",
      " item_embedding (Embedding)     (None, 30, 100)      5175800     ['item_input[0][0]']             \n",
      "                                                                                                  \n",
      " category_embedding (Embedding)  (None, 30, 10)      3350        ['category_input[0][0]']         \n",
      "                                                                                                  \n",
      " concat_embeddings (Concatenate  (None, 30, 120)     0           ['time_embedding[0][0]',         \n",
      " )                                                                'item_embedding[0][0]',         \n",
      "                                                                  'category_embedding[0][0]']     \n",
      "                                                                                                  \n",
      " lstm1 (LSTM)                   (None, 30, 256)      386048      ['concat_embeddings[0][0]']      \n",
      "                                                                                                  \n",
      " lstm2 (LSTM)                   (None, 30, 256)      525312      ['lstm1[0][0]']                  \n",
      "                                                                                                  \n",
      " lstm3 (LSTM)                   (None, 256)          525312      ['lstm2[0][0]']                  \n",
      "                                                                                                  \n",
      " output (Dense)                 (None, 1)            257         ['lstm3[0][0]']                  \n",
      "                                                                                                  \n",
      "==================================================================================================\n",
      "Total params: 6,659,769\n",
      "Trainable params: 6,659,769\n",
      "Non-trainable params: 0\n",
      "__________________________________________________________________________________________________\n",
      "None\n"
     ]
    }
   ],
   "source": [
    "# Timestamp input and embedding\n",
    "time_inp = Input(shape=(sequence_length,), name='time_input')\n",
    "time_emb = Embedding(output_dim=10,\n",
    "                     input_dim=time_vocab_size,\n",
    "                     input_length=sequence_length,\n",
    "                     embeddings_initializer=tf.keras.initializers.RandomUniform(minval=-0.075, maxval=0.075),\n",
    "                     mask_zero=True,\n",
    "                     name='time_embedding')(time_inp)\n",
    "\n",
    "# Item ID input and embedding\n",
    "item_inp = Input(shape=(sequence_length,), name='item_input')\n",
    "item_emb = Embedding(output_dim=100,\n",
    "                     input_dim=item_vocab_size,\n",
    "                     input_length=sequence_length,\n",
    "                     embeddings_initializer=tf.keras.initializers.RandomUniform(minval=-0.075, maxval=0.075),\n",
    "                     mask_zero=True,\n",
    "                     name='item_embedding')(item_inp)\n",
    "\n",
    "# Category input and embedding\n",
    "cat_inp = Input(shape=(sequence_length,), name='category_input')\n",
    "cat_emb = Embedding(output_dim=10,\n",
    "                    input_dim=cat_vocab_size,\n",
    "                    input_length=sequence_length,\n",
    "                    embeddings_initializer=tf.keras.initializers.RandomUniform(minval=-0.075, maxval=0.075),\n",
    "                    mask_zero=True,\n",
    "                    name='category_embedding')(cat_inp)\n",
    "\n",
    "# Concatenate embeddings\n",
    "concat_emb = Concatenate(axis=2, name='concat_embeddings')([time_emb, item_emb, cat_emb])\n",
    "\n",
    "# LSTM\n",
    "lstm1 = LSTM(256, return_sequences=True, name='lstm1')(concat_emb)\n",
    "lstm2 = LSTM(256, return_sequences=True, name='lstm2')(lstm1)\n",
    "lstm3 = LSTM(256, name='lstm3')(lstm2)\n",
    "\n",
    "# Output layer\n",
    "out = Dense(1, activation='sigmoid', name='output')(lstm3)\n",
    "\n",
    "model = Model(inputs=[time_inp, item_inp, cat_inp], outputs=[out])\n",
    "model.compile(loss='binary_crossentropy',\n",
    "              optimizer=tf.keras.optimizers.Adam(learning_rate=1e-3),\n",
    "              metrics=[keras.metrics.TruePositives(name='tp'),\n",
    "                       keras.metrics.FalsePositives(name='fp'),\n",
    "                       keras.metrics.TrueNegatives(name='tn'),\n",
    "                       keras.metrics.FalseNegatives(name='fn'),\n",
    "                       keras.metrics.BinaryAccuracy(name='accuracy'),\n",
    "                       keras.metrics.Precision(name='precision'),\n",
    "                       keras.metrics.Recall(name='recall'),\n",
    "                       keras.metrics.AUC(name='auc')])\n",
    "\n",
    "print(model.summary())"
   ]
  },
  {
   "cell_type": "markdown",
   "metadata": {},
   "source": [
    "Train model:"
   ]
  },
  {
   "cell_type": "code",
   "execution_count": 6,
   "metadata": {
    "scrolled": true
   },
   "outputs": [
    {
     "name": "stdout",
     "output_type": "stream",
     "text": [
      "Epoch 1/3\n",
      "28836/28836 [==============================] - 1476s 51ms/step - loss: 0.1759 - tp: 6691.0000 - fp: 5840.0000 - tn: 6973403.0000 - fn: 395921.0000 - accuracy: 0.9456 - precision: 0.5340 - recall: 0.0166 - auc: 0.8055 - val_loss: 0.1704 - val_tp: 3318.0000 - val_fp: 2661.0000 - val_tn: 1742150.0000 - val_fn: 97335.0000 - val_accuracy: 0.9458 - val_precision: 0.5549 - val_recall: 0.0330 - val_auc: 0.8258\n",
      "Epoch 2/3\n",
      "28836/28836 [==============================] - 1441s 50ms/step - loss: 0.1671 - tp: 19501.0000 - fp: 15489.0000 - tn: 6963754.0000 - fn: 383111.0000 - accuracy: 0.9460 - precision: 0.5573 - recall: 0.0484 - auc: 0.8361 - val_loss: 0.1691 - val_tp: 2602.0000 - val_fp: 1891.0000 - val_tn: 1742920.0000 - val_fn: 98051.0000 - val_accuracy: 0.9458 - val_precision: 0.5791 - val_recall: 0.0259 - val_auc: 0.8300\n",
      "Epoch 3/3\n",
      "28836/28836 [==============================] - 1443s 50ms/step - loss: 0.1634 - tp: 28317.0000 - fp: 20862.0000 - tn: 6958381.0000 - fn: 374295.0000 - accuracy: 0.9465 - precision: 0.5758 - recall: 0.0703 - auc: 0.8466 - val_loss: 0.1689 - val_tp: 5943.0000 - val_fp: 5735.0000 - val_tn: 1739076.0000 - val_fn: 94710.0000 - val_accuracy: 0.9456 - val_precision: 0.5089 - val_recall: 0.0590 - val_auc: 0.8309\n"
     ]
    },
    {
     "data": {
      "text/plain": [
       "<keras.callbacks.History at 0x20c8675eeb0>"
      ]
     },
     "execution_count": 6,
     "metadata": {},
     "output_type": "execute_result"
    }
   ],
   "source": [
    "model.fit([X_train[:,:,0], X_train[:,:,1], X_train[:,:,2]], y_train,\n",
    "          validation_data=([X_test[:,:,0], X_test[:,:,1], X_test[:,:,2]], y_test),\n",
    "          epochs=3,\n",
    "          batch_size=256)"
   ]
  },
  {
   "cell_type": "code",
   "execution_count": 7,
   "metadata": {},
   "outputs": [],
   "source": [
    "prediction = model.predict([X_test[:,:,0], X_test[:,:,1], X_test[:,:,2]])\n",
    "y_pred = (prediction > 0.5)"
   ]
  },
  {
   "cell_type": "code",
   "execution_count": 8,
   "metadata": {},
   "outputs": [
    {
     "name": "stdout",
     "output_type": "stream",
     "text": [
      "              precision    recall  f1-score   support\n",
      "\n",
      "           0     0.9484    0.9967    0.9719   1744811\n",
      "           1     0.5089    0.0590    0.1058    100653\n",
      "\n",
      "    accuracy                         0.9456   1845464\n",
      "   macro avg     0.7286    0.5279    0.5389   1845464\n",
      "weighted avg     0.9244    0.9456    0.9247   1845464\n",
      "\n"
     ]
    }
   ],
   "source": [
    "print(classification_report(y_test, y_pred, digits=4, zero_division=0))"
   ]
  },
  {
   "cell_type": "code",
   "execution_count": 9,
   "metadata": {},
   "outputs": [
    {
     "data": {
      "image/png": "[encoded data removed]",
      "text/plain": [
       "<Figure size 360x360 with 2 Axes>"
      ]
     },
     "metadata": {
      "needs_background": "light"
     },
     "output_type": "display_data"
    }
   ],
   "source": [
    "cm = confusion_matrix(y_test, y_pred)\n",
    "plt.figure(figsize=(5, 5))\n",
    "sns.heatmap(cm, annot=True, fmt=\"d\")\n",
    "plt.ylabel(\"Actual label\")\n",
    "plt.xlabel(\"Predicted label\")\n",
    "plt.title(\"LSTM Classifier\")\n",
    "plt.show()"
   ]
  },
  {
   "cell_type": "code",
   "execution_count": null,
   "metadata": {},
   "outputs": [],
   "source": []
  }
 ],
 "metadata": {
  "kernelspec": {
   "display_name": "Python 3 (ipykernel)",
   "language": "python",
   "name": "python3"
  },
  "language_info": {
   "codemirror_mode": {
    "name": "ipython",
    "version": 3
   },
   "file_extension": ".py",
   "mimetype": "text/x-python",
   "name": "python",
   "nbconvert_exporter": "python",
   "pygments_lexer": "ipython3",
   "version": "3.8.0"
  }
 },
 "nbformat": 4,
 "nbformat_minor": 4
}
