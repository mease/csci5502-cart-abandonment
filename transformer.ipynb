{
 "cells": [
  {
   "cell_type": "code",
   "execution_count": null,
   "id": "5a220c30",
   "metadata": {},
   "outputs": [],
   "source": [
    "!wget https://github.com/mease/csci5502-cart-abandonment/raw/main/data/cart_abandon_data_seq_30.zip\n",
    "!mkdir data\n",
    "!unzip cart_abandon_data_seq_30.zip -d data"
   ]
  },
  {
   "cell_type": "code",
   "execution_count": 1,
   "id": "82ab37aa",
   "metadata": {},
   "outputs": [],
   "source": [
    "from sklearn.metrics import confusion_matrix, classification_report\n",
    "import matplotlib.pyplot as plt\n",
    "import seaborn as sns\n",
    "try:\n",
    "  %tensorflow_version 2.x\n",
    "except Exception:\n",
    "  pass\n",
    "import tensorflow as tf\n",
    "from tensorflow import keras\n",
    "from tensorflow.keras import Model, Sequential\n",
    "from tensorflow.keras.layers import Layer, Add, MultiHeadAttention, GlobalAveragePooling1D, Conv1D, Input, Embedding, Concatenate, LayerNormalization, Dense, Dropout\n",
    "\n",
    "import numpy as np"
   ]
  },
  {
   "cell_type": "code",
   "execution_count": 2,
   "id": "f1c72f48",
   "metadata": {},
   "outputs": [],
   "source": [
    "with open('data/X_train.npy', 'rb') as f:\n",
    "    X_train = np.load(f)\n",
    "with open('data/y_train.npy', 'rb') as f:\n",
    "    y_train = np.load(f)\n",
    "with open('data/X_test.npy', 'rb') as f:\n",
    "    X_test = np.load(f)\n",
    "with open('data/y_test.npy', 'rb') as f:\n",
    "    y_test = np.load(f)"
   ]
  },
  {
   "cell_type": "code",
   "execution_count": 3,
   "id": "5946947d",
   "metadata": {},
   "outputs": [
    {
     "name": "stdout",
     "output_type": "stream",
     "text": [
      "Time vocab: 4369, Item vocab: 51758, Category vocab: 335\n"
     ]
    }
   ],
   "source": [
    "time_vocab_size = len(np.unique(np.concatenate((np.unique(X_train[:,:,0]),np.unique(X_test[:,:,0])))))\n",
    "item_vocab_size = len(np.unique(np.concatenate((np.unique(X_train[:,:,1]),np.unique(X_test[:,:,1])))))\n",
    "cat_vocab_size = len(np.unique(np.concatenate((np.unique(X_train[:,:,2]),np.unique(X_test[:,:,2])))))\n",
    "print(f\"Time vocab: {time_vocab_size}, Item vocab: {item_vocab_size}, Category vocab: {cat_vocab_size}\")"
   ]
  },
  {
   "cell_type": "code",
   "execution_count": 4,
   "id": "d0f02c05",
   "metadata": {},
   "outputs": [],
   "source": [
    "sequence_length = 30"
   ]
  },
  {
   "cell_type": "code",
   "execution_count": 5,
   "id": "698d01ae",
   "metadata": {},
   "outputs": [],
   "source": [
    "class PositionalEncoding(tf.keras.layers.Layer):\n",
    "    def __init__(self, enc_len, seq_len, name=None):\n",
    "        super(PositionalEncoding, self).__init__(name=name)\n",
    "\n",
    "        self.enc_len = enc_len\n",
    "        self.seq_len = seq_len\n",
    "        \n",
    "        angle_rads = self.get_angles(np.arange(self.seq_len)[:, np.newaxis],\n",
    "                                     np.arange(self.enc_len)[np.newaxis, :])\n",
    "\n",
    "        # apply sin to even indices in the array; 2i\n",
    "        angle_rads[:, 0::2] = np.sin(angle_rads[:, 0::2])\n",
    "\n",
    "        # apply cos to odd indices in the array; 2i+1\n",
    "        angle_rads[:, 1::2] = np.cos(angle_rads[:, 1::2])\n",
    "\n",
    "        self.pos_encoding = angle_rads[np.newaxis, ...]\n",
    "        self.pos_encoding = tf.cast(self.pos_encoding, dtype=tf.float32)\n",
    "    \n",
    "    def get_angles(self, pos, i):\n",
    "        angle_rates = 1 / np.power(10000, (2 * (i//2)) / np.float32(self.enc_len))\n",
    "        return pos * angle_rates\n",
    "    \n",
    "    def call(self, x, training, mask=None):\n",
    "        x *= tf.math.sqrt(tf.cast(self.enc_len, tf.float32))\n",
    "        x += self.pos_encoding[:, :self.seq_len, :]\n",
    "        return x\n",
    "    \n",
    "    def compute_mask(self, inputs, mask=None):\n",
    "        return mask"
   ]
  },
  {
   "cell_type": "code",
   "execution_count": 6,
   "id": "4f1f622b",
   "metadata": {},
   "outputs": [],
   "source": [
    "class TransformerEncoder(tf.keras.layers.Layer):\n",
    "    def __init__(self, enc_len, num_heads, head_size, ff_dim, dropout=0, name=None):\n",
    "        super(TransformerEncoder, self).__init__(name=name)\n",
    "        self.ln1 = LayerNormalization(epsilon=1e-6)\n",
    "        self.mha = MultiHeadAttention(key_dim=head_size, num_heads=num_heads, dropout=dropout)\n",
    "        self.drop1 = Dropout(dropout)\n",
    "        self.ln2 = LayerNormalization(epsilon=1e-6)\n",
    "        self.ff1 = Conv1D(filters=ff_dim, kernel_size=1, activation=\"relu\")\n",
    "        self.drop2 = Dropout(dropout)\n",
    "        self.ff2 = Conv1D(filters=enc_len, kernel_size=1)\n",
    "\n",
    "    def call(self, x, training, mask=None):\n",
    "        inputs = x\n",
    "        x = self.ln1(x)\n",
    "        x = self.mha(x, x)\n",
    "        x = self.drop1(x)\n",
    "        res = x + inputs\n",
    "        x = self.ln2(res)\n",
    "        x = self.ff1(x)\n",
    "        x = self.drop2(x)\n",
    "        x = self.ff2(x)\n",
    "        x = x + res\n",
    "        return x\n",
    "    \n",
    "    def compute_mask(self, inputs, mask=None):\n",
    "        return mask"
   ]
  },
  {
   "cell_type": "code",
   "execution_count": 7,
   "id": "c57e194f",
   "metadata": {},
   "outputs": [],
   "source": [
    "# Hyperparameters\n",
    "num_heads = 4            # Number of attention heads\n",
    "head_size = 256          # Attention head size\n",
    "ff_dim = 4               # Encoder feed-forward size\n",
    "enc_dropout = 0.1        # Encoder dropout\n",
    "out_linear_size = 256    # Linear output layer size\n",
    "out_linear_dropout = 0.1 # Linear output layer dropout\n",
    "encoder_layers = 3       # Number of transformer encoder layers\n",
    "learning_rate = 1e-3     # Optimizer learning rate\n",
    "batch_size = 1024        # Training batch size\n",
    "epochs = 3               # Number of epochs to train"
   ]
  },
  {
   "cell_type": "code",
   "execution_count": 8,
   "id": "cdfee8b4",
   "metadata": {
    "scrolled": true
   },
   "outputs": [
    {
     "name": "stdout",
     "output_type": "stream",
     "text": [
      "Model: \"model\"\n",
      "__________________________________________________________________________________________________\n",
      " Layer (type)                   Output Shape         Param #     Connected to                     \n",
      "==================================================================================================\n",
      " time_input (InputLayer)        [(None, 30)]         0           []                               \n",
      "                                                                                                  \n",
      " item_input (InputLayer)        [(None, 30)]         0           []                               \n",
      "                                                                                                  \n",
      " category_input (InputLayer)    [(None, 30)]         0           []                               \n",
      "                                                                                                  \n",
      " time_embedding (Embedding)     (None, 30, 10)       43690       ['time_input[0][0]']             \n",
      "                                                                                                  \n",
      " item_embedding (Embedding)     (None, 30, 100)      5175800     ['item_input[0][0]']             \n",
      "                                                                                                  \n",
      " category_embedding (Embedding)  (None, 30, 10)      3350        ['category_input[0][0]']         \n",
      "                                                                                                  \n",
      " concat_embeddings (Concatenate  (None, 30, 120)     0           ['time_embedding[0][0]',         \n",
      " )                                                                'item_embedding[0][0]',         \n",
      "                                                                  'category_embedding[0][0]']     \n",
      "                                                                                                  \n",
      " pos_encoding (PositionalEncodi  (None, 30, 120)     0           ['concat_embeddings[0][0]']      \n",
      " ng)                                                                                              \n",
      "                                                                                                  \n",
      " encoder_1 (TransformerEncoder)  (None, 30, 120)     496276      ['pos_encoding[0][0]']           \n",
      "                                                                                                  \n",
      " encoder_2 (TransformerEncoder)  (None, 30, 120)     496276      ['encoder_1[0][0]']              \n",
      "                                                                                                  \n",
      " encoder_3 (TransformerEncoder)  (None, 30, 120)     496276      ['encoder_2[0][0]']              \n",
      "                                                                                                  \n",
      " pooling (GlobalAveragePooling1  (None, 120)         0           ['encoder_3[0][0]']              \n",
      " D)                                                                                               \n",
      "                                                                                                  \n",
      " linear_1 (Dense)               (None, 256)          30976       ['pooling[0][0]']                \n",
      "                                                                                                  \n",
      " dropout_6 (Dropout)            (None, 256)          0           ['linear_1[0][0]']               \n",
      "                                                                                                  \n",
      " linear_2 (Dense)               (None, 1)            257         ['dropout_6[0][0]']              \n",
      "                                                                                                  \n",
      "==================================================================================================\n",
      "Total params: 6,742,901\n",
      "Trainable params: 6,742,901\n",
      "Non-trainable params: 0\n",
      "__________________________________________________________________________________________________\n",
      "None\n"
     ]
    }
   ],
   "source": [
    "# Timestamp input and embedding\n",
    "time_inp = Input(shape=(sequence_length,), name='time_input')\n",
    "time_emb = Embedding(output_dim=10,\n",
    "                     input_dim=time_vocab_size,\n",
    "                     input_length=sequence_length,\n",
    "                     embeddings_initializer=tf.keras.initializers.RandomUniform(minval=-0.075, maxval=0.075),\n",
    "                     mask_zero=True,\n",
    "                     name='time_embedding')(time_inp)\n",
    "\n",
    "# Item ID input and embedding\n",
    "item_inp = Input(shape=(sequence_length,), name='item_input')\n",
    "item_emb = Embedding(output_dim=100,\n",
    "                     input_dim=item_vocab_size,\n",
    "                     input_length=sequence_length,\n",
    "                     embeddings_initializer=tf.keras.initializers.RandomUniform(minval=-0.075, maxval=0.075),\n",
    "                     mask_zero=True,\n",
    "                     name='item_embedding')(item_inp)\n",
    "\n",
    "# Category input and embedding\n",
    "cat_inp = Input(shape=(sequence_length,), name='category_input')\n",
    "cat_emb = Embedding(output_dim=10,\n",
    "                    input_dim=cat_vocab_size,\n",
    "                    input_length=sequence_length,\n",
    "                    embeddings_initializer=tf.keras.initializers.RandomUniform(minval=-0.075, maxval=0.075),\n",
    "                    mask_zero=True,\n",
    "                    name='category_embedding')(cat_inp)\n",
    "\n",
    "# Concatenate embeddings\n",
    "embedding = Concatenate(axis=2, name='concat_embeddings')([time_emb, item_emb, cat_emb])\n",
    "\n",
    "x = PositionalEncoding(enc_len=embedding.shape[-1],\n",
    "                       seq_len=sequence_length,\n",
    "                       name='pos_encoding')(embedding)\n",
    "\n",
    "# Transformer Encoder layers\n",
    "for i in range(encoder_layers):\n",
    "    x = TransformerEncoder(enc_len=embedding.shape[-1],\n",
    "                           num_heads=num_heads,\n",
    "                           head_size=head_size,\n",
    "                           ff_dim=ff_dim,\n",
    "                           dropout=enc_dropout,\n",
    "                           name=f\"encoder_{i+1}\")(x)\n",
    "\n",
    "x = GlobalAveragePooling1D(name='pooling')(x)\n",
    "x = Dense(out_linear_size, activation=\"relu\", name='linear_1')(x)\n",
    "x = Dropout(out_linear_dropout)(x)\n",
    "out = Dense(1, activation=\"sigmoid\", name='linear_2')(x)\n",
    "\n",
    "\n",
    "model = Model(inputs=[time_inp, item_inp, cat_inp], outputs=[out])\n",
    "model.compile(loss='binary_crossentropy',\n",
    "              optimizer=tf.keras.optimizers.Adam(learning_rate=learning_rate),\n",
    "              metrics=[keras.metrics.TruePositives(name='tp'),\n",
    "                       keras.metrics.FalsePositives(name='fp'),\n",
    "                       keras.metrics.TrueNegatives(name='tn'),\n",
    "                       keras.metrics.FalseNegatives(name='fn'),\n",
    "                       keras.metrics.BinaryAccuracy(name='accuracy'),\n",
    "                       keras.metrics.Precision(name='precision'),\n",
    "                       keras.metrics.Recall(name='recall'),\n",
    "                       keras.metrics.AUC(name='auc')])\n",
    "\n",
    "print(model.summary())"
   ]
  },
  {
   "cell_type": "code",
   "execution_count": 9,
   "id": "0fbb1489",
   "metadata": {
    "scrolled": true
   },
   "outputs": [
    {
     "name": "stdout",
     "output_type": "stream",
     "text": [
      "Epoch 1/3\n",
      "7209/7209 [==============================] - 2057s 284ms/step - loss: 0.1788 - tp: 5741.0000 - fp: 6470.0000 - tn: 6972773.0000 - fn: 396871.0000 - accuracy: 0.9454 - precision: 0.4701 - recall: 0.0143 - auc: 0.7939 - val_loss: 0.1745 - val_tp: 2001.0000 - val_fp: 1668.0000 - val_tn: 1743143.0000 - val_fn: 98652.0000 - val_accuracy: 0.9456 - val_precision: 0.5454 - val_recall: 0.0199 - val_auc: 0.8119\n",
      "Epoch 2/3\n",
      "7209/7209 [==============================] - 2052s 285ms/step - loss: 0.1708 - tp: 11273.0000 - fp: 9446.0000 - tn: 6969797.0000 - fn: 391339.0000 - accuracy: 0.9457 - precision: 0.5441 - recall: 0.0280 - auc: 0.8242 - val_loss: 0.1729 - val_tp: 3115.0000 - val_fp: 2742.0000 - val_tn: 1742069.0000 - val_fn: 97538.0000 - val_accuracy: 0.9457 - val_precision: 0.5318 - val_recall: 0.0309 - val_auc: 0.8200\n",
      "Epoch 3/3\n",
      "7209/7209 [==============================] - 2053s 285ms/step - loss: 0.1663 - tp: 18091.0000 - fp: 14435.0000 - tn: 6964808.0000 - fn: 384521.0000 - accuracy: 0.9460 - precision: 0.5562 - recall: 0.0449 - auc: 0.8388 - val_loss: 0.1723 - val_tp: 3842.0000 - val_fp: 3590.0000 - val_tn: 1741221.0000 - val_fn: 96811.0000 - val_accuracy: 0.9456 - val_precision: 0.5170 - val_recall: 0.0382 - val_auc: 0.8205\n"
     ]
    },
    {
     "data": {
      "text/plain": [
       "<keras.callbacks.History at 0x202bba5a370>"
      ]
     },
     "execution_count": 9,
     "metadata": {},
     "output_type": "execute_result"
    }
   ],
   "source": [
    "model.fit(\n",
    "    [X_train[:,:,0], X_train[:,:,1], X_train[:,:,2]], y_train,\n",
    "    validation_data=([X_test[:,:,0], X_test[:,:,1], X_test[:,:,2]], y_test),\n",
    "    epochs=epochs,\n",
    "    batch_size=batch_size\n",
    ")"
   ]
  },
  {
   "cell_type": "code",
   "execution_count": 10,
   "id": "7190051a",
   "metadata": {},
   "outputs": [],
   "source": [
    "prediction = model.predict([X_test[:,:,0], X_test[:,:,1], X_test[:,:,2]])\n",
    "y_pred = (prediction > 0.5)"
   ]
  },
  {
   "cell_type": "code",
   "execution_count": 11,
   "id": "01590748",
   "metadata": {},
   "outputs": [
    {
     "name": "stdout",
     "output_type": "stream",
     "text": [
      "              precision    recall  f1-score   support\n",
      "\n",
      "           0     0.9473    0.9979    0.9720   1744811\n",
      "           1     0.5170    0.0382    0.0711    100653\n",
      "\n",
      "    accuracy                         0.9456   1845464\n",
      "   macro avg     0.7321    0.5181    0.5215   1845464\n",
      "weighted avg     0.9239    0.9456    0.9228   1845464\n",
      "\n"
     ]
    }
   ],
   "source": [
    "print(classification_report(y_test, y_pred, digits=4, zero_division=0))"
   ]
  },
  {
   "cell_type": "code",
   "execution_count": 12,
   "id": "d6656f52",
   "metadata": {},
   "outputs": [
    {
     "data": {
      "image/png": "[encoded data removed]",
      "text/plain": [
       "<Figure size 360x360 with 2 Axes>"
      ]
     },
     "metadata": {
      "needs_background": "light"
     },
     "output_type": "display_data"
    }
   ],
   "source": [
    "cm = confusion_matrix(y_test, y_pred)\n",
    "plt.figure(figsize=(5, 5))\n",
    "sns.heatmap(cm, annot=True, fmt=\"d\")\n",
    "plt.ylabel(\"Actual label\")\n",
    "plt.xlabel(\"Predicted label\")\n",
    "plt.title(\"Transformer Classifier\")\n",
    "plt.show()"
   ]
  }
 ],
 "metadata": {
  "kernelspec": {
   "display_name": "Python 3 (ipykernel)",
   "language": "python",
   "name": "python3"
  },
  "language_info": {
   "codemirror_mode": {
    "name": "ipython",
    "version": 3
   },
   "file_extension": ".py",
   "mimetype": "text/x-python",
   "name": "python",
   "nbconvert_exporter": "python",
   "pygments_lexer": "ipython3",
   "version": "3.8.0"
  }
 },
 "nbformat": 4,
 "nbformat_minor": 5
}
